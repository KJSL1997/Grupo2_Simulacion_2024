{
 "cells": [
  {
   "cell_type": "markdown",
   "id": "35a0bffd-b464-4c24-8188-53df77bc5af4",
   "metadata": {},
   "source": [
    "## Ejercicio #2"
   ]
  },
  {
   "cell_type": "markdown",
   "id": "1407493b-8bb6-4c5b-bbd5-1a74c7d87cc8",
   "metadata": {},
   "source": [
    "#### Resolver el siguiente sistema de ecuaciones no lineales"
   ]
  },
  {
   "cell_type": "code",
   "execution_count": 1,
   "id": "89143a56-309e-4a36-8893-b9fe59a158a9",
   "metadata": {},
   "outputs": [
    {
     "name": "stdout",
     "output_type": "stream",
     "text": [
      "[ 5.00000000e-01  1.42091776e-05 -5.23332978e-01]\n"
     ]
    }
   ],
   "source": [
    "import numpy as np\n",
    "from sympy import symbols, cos, sin, exp, Matrix, lambdify\n",
    "\n",
    "# Definir las variables\n",
    "x1, x2, x3 = symbols('x1 x2 x3')\n",
    "\n",
    "# Definir las funciones del sistema\n",
    "f1 = 3*x1 - cos(x2 * x3) - 1/2\n",
    "f2 = x1**2 - 81*(x2 + 0.1)**2 + sin(x3) + 1.06\n",
    "f3 = exp(-x1 * x2) + 20 * x3 + (10 * 3.14 - 3) / 3\n",
    "\n",
    "# Definir el sistema de ecuaciones como una matriz\n",
    "system = Matrix([f1, f2, f3])\n",
    "\n",
    "# Calcular la matriz Jacobiana\n",
    "jacobian = system.jacobian([x1, x2, x3])\n",
    "\n",
    "# Convertir las funciones y la jacobiana a funciones numéricas\n",
    "F = lambdify((x1, x2, x3), system, 'numpy')\n",
    "J = lambdify((x1, x2, x3), jacobian, 'numpy')\n",
    "\n",
    "# Inicializar la solución\n",
    "x = np.array([0.1, 0.1, -0.1], dtype=np.float64)\n",
    "\n",
    "# Método de Newton-Raphson\n",
    "def newton_raphson(F, J, x0, tol=1e-10, maxiter=100):\n",
    "    x = x0\n",
    "    for _ in range(maxiter):\n",
    "        # Evaluar la Jacobiana y la función en el punto actual\n",
    "        J_eval = np.array(J(*x), dtype=np.float64)\n",
    "        F_eval = np.array(F(*x), dtype=np.float64).flatten()\n",
    "        \n",
    "        # Calcular la inversa de la Jacobiana\n",
    "        J_inv = np.linalg.inv(J_eval)\n",
    "        \n",
    "        # Calcular el cambio\n",
    "        delta = np.dot(J_inv, F_eval)\n",
    "        \n",
    "        # Actualizar la solución\n",
    "        x = x - delta\n",
    "        \n",
    "        # Verificar la convergencia\n",
    "        if np.linalg.norm(delta, ord=2) < tol:\n",
    "            break\n",
    "    return x\n",
    "\n",
    "# Encontrar la solución\n",
    "solution = newton_raphson(F, J, x)\n",
    "print(solution)"
   ]
  }
 ],
 "metadata": {
  "kernelspec": {
   "display_name": "Python 3 (ipykernel)",
   "language": "python",
   "name": "python3"
  },
  "language_info": {
   "codemirror_mode": {
    "name": "ipython",
    "version": 3
   },
   "file_extension": ".py",
   "mimetype": "text/x-python",
   "name": "python",
   "nbconvert_exporter": "python",
   "pygments_lexer": "ipython3",
   "version": "3.10.13"
  }
 },
 "nbformat": 4,
 "nbformat_minor": 5
}
